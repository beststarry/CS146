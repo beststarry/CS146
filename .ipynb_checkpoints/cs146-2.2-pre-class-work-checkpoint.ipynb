{
 "cells": [
  {
   "cell_type": "markdown",
   "metadata": {},
   "source": [
    "# Call center data modeling\n",
    "\n",
    "You are advising a client on the number of call center agents they need to handle their customer support load. We start by modeling the number of phone calls we expect to come into the call center during each hour of the day.\n",
    "\n",
    "You are provided with a data set of the intervals between phone calls arriving during one day. Each value is a time in minutes indicating the amount of time that passed between receiving two consecutive phone calls.\n",
    "\n",
    "## Loading the data"
   ]
  },
  {
   "cell_type": "code",
   "execution_count": 1,
   "metadata": {},
   "outputs": [
    {
     "name": "stdout",
     "output_type": "stream",
     "text": [
      "Size of data set: 5891\n",
      "First 3 values in data set: [5.36 2.48 8.08]\n",
      "Sum of data set: 1442.145437310004\n"
     ]
    }
   ],
   "source": [
    "import numpy as np\n",
    "from scipy import stats\n",
    "import matplotlib.pyplot as plt\n",
    "\n",
    "# Load the data set containing durations between calls arriving at the call center.\n",
    "# All values are in minutes.\n",
    "waiting_times_day = np.loadtxt('call_center.csv')\n",
    "print('Size of data set:', len(waiting_times_day))\n",
    "print('First 3 values in data set:', waiting_times_day[:3])\n",
    "print('Sum of data set:', sum(waiting_times_day))"
   ]
  },
  {
   "cell_type": "markdown",
   "metadata": {},
   "source": [
    "Since the values are intervals between calls measured in minutes, this means\n",
    "\n",
    "* we assume the first call happened at 00:00 (midnight),\n",
    "* the second call happened at about 00:05 (5.36 minutes after midnight),\n",
    "* the third call happened at about 00:07 (5.36 + 2.48 minutes),\n",
    "* the fourth call happened at about 00:15, etc.\n",
    "\n",
    "When we sum the values, we get about 1440 minutes (1 day)."
   ]
  },
  {
   "cell_type": "markdown",
   "metadata": {},
   "source": [
    "You are told that the number of calls arriving varies quite a lot, depending on which hour of the day it is. The smallest number of calls usually occur around 3am or 4am. Most calls usually come in between 11am and 1pm.\n",
    "\n",
    "## Data pre-processing\n",
    "Since we expect different call rates during different hours, we split the data set into 24 separate series — one for each hour of the day."
   ]
  },
  {
   "cell_type": "code",
   "execution_count": 26,
   "metadata": {},
   "outputs": [],
   "source": [
    "# Split the data into 24 separate series, one for each hour of the day\n",
    "current_time = 0\n",
    "waiting_times_per_hour = [[] for _ in range(24)]  # Make 24 empty lists, one per hour\n",
    "for t in waiting_times_day:\n",
    "    current_hour = int(current_time // 60)\n",
    "    current_time += t\n",
    "    waiting_times_per_hour[current_hour].append(t)\n",
    "\n",
    "for hour, waiting_times_hour in enumerate(waiting_times_per_hour):\n",
    "    print('%02i:00-%02i:00 - %i calls' % (hour, hour + 1, len(waiting_times_hour)))"
   ]
  },
  {
   "cell_type": "markdown",
   "metadata": {},
   "source": [
    "## Task 1: Plot the number of calls per hour\n",
    "Use Matplotlib to visualize the number of calls that arrive during each hour of the day. The numbers are shown in the output above. You should find an appropriate way to visualize it."
   ]
  },
  {
   "cell_type": "code",
   "execution_count": 27,
   "metadata": {
    "scrolled": true
   },
   "outputs": [
    {
     "data": {
      "image/png": "[encoded data removed]",
      "text/plain": [
       "<matplotlib.figure.Figure at 0x108567160>"
      ]
     },
     "metadata": {},
     "output_type": "display_data"
    }
   ],
   "source": [
    "# Plot the number of calls per hour\n",
    "plt.bar(range(24), [len(w) for w in waiting_times_per_hour])\n",
    "plt.title('Number of calls per hour of the day')\n",
    "plt.show()"
   ]
  },
  {
   "cell_type": "code",
   "execution_count": 57,
   "metadata": {},
   "outputs": [
    {
     "data": {
      "image/png": "[encoded data removed]",
      "text/plain": [
       "<matplotlib.figure.Figure at 0x1a12e57198>"
      ]
     },
     "metadata": {},
     "output_type": "display_data"
    }
   ],
   "source": [
    "yerr = 0.05*np.sqrt([len(w) for w in waiting_times_per_hour])\n",
    "\n",
    "plt.errorbar(np.arange(24), np.array([len(w) for w in waiting_times_per_hour])/60, yerr=yerr, fmt='o')\n",
    "plt.show()"
   ]
  },
  {
   "cell_type": "markdown",
   "metadata": {},
   "source": [
    "## Task 2: Plot a histogram of the durations for one hour\n",
    "Take the data for the 11th hour (so between 11am and 12pm) and plot a histogram showing the distribution over waiting times between calls during that hour."
   ]
  },
  {
   "cell_type": "code",
   "execution_count": 29,
   "metadata": {},
   "outputs": [
    {
     "data": {
      "image/png": "[encoded data removed]",
      "text/plain": [
       "<matplotlib.figure.Figure at 0x1a12864208>"
      ]
     },
     "metadata": {},
     "output_type": "display_data"
    }
   ],
   "source": [
    "# Plot histogram of waiting times for hour\n",
    "plt.hist(waiting_times_per_hour[11], bins=20)\n",
    "plt.title('Waiting times for hour %i' % 11)\n",
    "plt.show()"
   ]
  },
  {
   "cell_type": "markdown",
   "metadata": {},
   "source": [
    "## Task 3: Guess the distribution\n",
    "What type of distribution best represents the data in your histogram?\n",
    "\n",
    "* Identify a type of distribution - Exponential\n",
    "* Guess what the parameters of the distribution are.\n",
    "* Plot the pdf of your best guess on top of your histogram, to see if they match.\n",
    "* Important: you have to normalize your histogram so that it will have the same vertical scale as the plot of the pdf. You can normalize a histogram by using the argument `density=True` in the `hist` function."
   ]
  },
  {
   "cell_type": "code",
   "execution_count": 55,
   "metadata": {},
   "outputs": [
    {
     "data": {
      "image/png": "[encoded data removed]",
      "text/plain": [
       "<matplotlib.figure.Figure at 0x1a1279a6a0>"
      ]
     },
     "metadata": {},
     "output_type": "display_data"
    }
   ],
   "source": [
    "alpha_prior, beta_prior = 1, 0.25\n",
    "\n",
    "errors = []\n",
    "\n",
    "for x in waiting_times_per_hour:\n",
    "    alpha_posterior, beta_posterior = alpha_prior + len(x), beta_prior + sum(x)\n",
    "    posterior = stats.gamma(a=alpha_posterior, scale=1/beta_posterior)\n",
    "    errors.append((posterior.ppf(0.975) - posterior.ppf(0.025))/2)\n",
    "\n",
    "plt.errorbar(np.arange(24), \n",
    "             np.array([len(w) for w in waiting_times_per_hour])/60, \n",
    "             yerr=errors, fmt='o')\n",
    "plt.show()"
   ]
  },
  {
   "cell_type": "code",
   "execution_count": null,
   "metadata": {},
   "outputs": [],
   "source": []
  },
  {
   "cell_type": "code",
   "execution_count": 15,
   "metadata": {},
   "outputs": [
    {
     "data": {
      "image/png": "[encoded data removed]",
      "text/plain": [
       "<matplotlib.figure.Figure at 0x1086aa390>"
      ]
     },
     "metadata": {},
     "output_type": "display_data"
    }
   ],
   "source": [
    "from scipy.stats import expon\n",
    "\n",
    "x = []\n",
    "for hour, waiting_times_hour in enumerate(waiting_times_per_hour):\n",
    "    if hour == 11: x = waiting_times_hour\n",
    "\n",
    "\n",
    "weights = np.ones_like(x)/float(len(x))\n",
    "plt.hist(x, weights = weights, alpha = 0.9)\n",
    "\n",
    "lambda1 = 0.57\n",
    "distribution = stats.expon(scale=1/lambda1)\n",
    "\n",
    "# plt.figure(figsize=(8, 4))\n",
    "x = np.linspace(0, 5)\n",
    "plt.plot(x, distribution.pdf(x))\n",
    "plt.title('probability density function')\n",
    "\n",
    "plt.show()\n",
    "\n"
   ]
  },
  {
   "cell_type": "code",
   "execution_count": null,
   "metadata": {},
   "outputs": [],
   "source": [
    "import scipy.stats as ss\n",
    "import matplotlib.pyplot as plt\n",
    "import numpy as np\n",
    "\n",
    "\n",
    "\n",
    "lambda1 = 0.6\n",
    "distribution = ss.expon(scale=1/lambda1)\n",
    "\n",
    "plt.figure(figsize=(8, 4))\n",
    "x = np.linspace(0, 5)\n",
    "plt.plot(x, distribution.pdf(x))\n",
    "plt.title('probability density function')\n",
    "\n",
    "\n"
   ]
  },
  {
   "cell_type": "code",
   "execution_count": 17,
   "metadata": {},
   "outputs": [
    {
     "data": {
      "image/png": "[encoded data removed]",
      "text/plain": [
       "<matplotlib.figure.Figure at 0x1a12012978>"
      ]
     },
     "metadata": {},
     "output_type": "display_data"
    },
    {
     "data": {
      "image/png": "[encoded data removed]",
      "text/plain": [
       "<matplotlib.figure.Figure at 0x1a121b2a58>"
      ]
     },
     "metadata": {},
     "output_type": "display_data"
    }
   ],
   "source": [
    "gamma_param = [(1.5,4),(3,2)]\n",
    "\n",
    "x = []\n",
    "for hour, waiting_times_hour in enumerate(waiting_times_per_hour):\n",
    "    if hour == 11: x = waiting_times_hour\n",
    "\n",
    "\n",
    "for alpha, beta in gamma_param:\n",
    "    gamma = stats.gamma(a=alpha, scale=1/beta)\n",
    "    plt.figure(figsize=(8, 4))\n",
    "    y = np.linspace(0, 5, 100)\n",
    "    plt.plot(x, gamma.pdf(x))\n",
    "    gamma_samples = x\n",
    "    plt.hist(gamma_samples, range=[0, 5],density=True, bins=20)\n",
    "    plt.title('gamma with alpha = {} and beta = {}'.format(alpha,beta))\n",
    "    plt.show()\n"
   ]
  },
  {
   "cell_type": "code",
   "execution_count": null,
   "metadata": {
    "scrolled": true
   },
   "outputs": [],
   "source": [
    "import scipy.stats as ss\n",
    "\n",
    "def plot_exponential(x_range, mu=0, sigma=1, **kwargs):\n",
    "\n",
    "    x = x_range\n",
    "    y = ss.expon.pdf(x, mu, sigma)\n",
    "    plt.plot(x, y, **kwargs)\n",
    "    x = []\n",
    "    for hour, waiting_times_hour in enumerate(waiting_times_per_hour):\n",
    "        if hour == 11: x = waiting_times_hour\n",
    "\n",
    "\n",
    "    plt.hist(x, alpha = 0.9)\n",
    "    \n",
    "\n",
    "plot_exponential(np.linspace(0, 1, 500000), 0, 0.002, color='red', lw=2, ls='-', alpha=30, label='pdf')\n",
    "\n",
    "\n",
    "stats.expon(scale=1/lambda_)"
   ]
  },
  {
   "cell_type": "code",
   "execution_count": 21,
   "metadata": {
    "scrolled": true
   },
   "outputs": [
    {
     "data": {
      "image/png": "[encoded data removed]",
      "text/plain": [
       "<matplotlib.figure.Figure at 0x1a125f7d30>"
      ]
     },
     "metadata": {},
     "output_type": "display_data"
    }
   ],
   "source": [
    "plt.hist(waiting_times_per_hour[11], bins=20, density=True) \n",
    "dist = stats.expon(loc=0, scale=1/13.86)\n",
    "x = np.linspace(0, 0.6, 100)\n",
    "plt.plot(x, dist.pdf(x))\n",
    "plt.show()"
   ]
  },
  {
   "cell_type": "code",
   "execution_count": 24,
   "metadata": {},
   "outputs": [
    {
     "data": {
      "text/plain": [
       "([array([0., 1., 1., 0., 0., 1., 0., 0., 1., 0., 1., 1., 0., 0., 0., 0., 0.,\n",
       "         0., 0., 0., 0., 1., 0., 0.]),\n",
       "  array([1., 0., 0., 0., 0., 0., 0., 0., 1., 0., 0., 1., 0., 0., 1., 0., 0.,\n",
       "         0., 0., 0., 0., 0., 0., 0.]),\n",
       "  array([1., 1., 0., 1., 0., 0., 0., 0., 2., 0., 0., 1., 0., 0., 0., 0., 0.,\n",
       "         0., 2., 0., 0., 0., 0., 0.]),\n",
       "  array([1., 0., 1., 0., 0., 1., 1., 2., 0., 0., 0., 0., 1., 0., 0., 0., 0.,\n",
       "         0., 0., 0., 0., 0., 0., 0.]),\n",
       "  array([5., 5., 2., 3., 3., 1., 1., 1., 0., 0., 0., 0., 0., 0., 0., 0., 0.,\n",
       "         0., 0., 0., 0., 0., 0., 0.]),\n",
       "  array([22.,  8.,  6.,  3.,  2.,  0.,  1.,  0.,  0.,  0.,  0.,  0.,  0.,\n",
       "          0.,  0.,  0.,  0.,  0.,  0.,  0.,  0.,  0.,  0.,  0.]),\n",
       "  array([75., 15.,  4.,  2.,  0.,  0.,  0.,  0.,  0.,  0.,  0.,  0.,  0.,\n",
       "          0.,  0.,  0.,  0.,  0.,  0.,  0.,  0.,  0.,  0.,  0.]),\n",
       "  array([183.,   5.,   1.,   0.,   0.,   0.,   0.,   0.,   0.,   0.,   0.,\n",
       "           0.,   0.,   0.,   0.,   0.,   0.,   0.,   0.,   0.,   0.,   0.,\n",
       "           0.,   0.]),\n",
       "  array([272.,   2.,   0.,   0.,   0.,   0.,   0.,   0.,   0.,   0.,   0.,\n",
       "           0.,   0.,   0.,   0.,   0.,   0.,   0.,   0.,   0.,   0.,   0.,\n",
       "           0.,   0.]),\n",
       "  array([344.,   0.,   0.,   0.,   0.,   0.,   0.,   0.,   0.,   0.,   0.,\n",
       "           0.,   0.,   0.,   0.,   0.,   0.,   0.,   0.,   0.,   0.,   0.,\n",
       "           0.,   0.]),\n",
       "  array([486.,   1.,   0.,   0.,   0.,   0.,   0.,   0.,   0.,   0.,   0.,\n",
       "           0.,   0.,   0.,   0.,   0.,   0.,   0.,   0.,   0.,   0.,   0.,\n",
       "           0.,   0.]),\n",
       "  array([892.,   0.,   0.,   0.,   0.,   0.,   0.,   0.,   0.,   0.,   0.,\n",
       "           0.,   0.,   0.,   0.,   0.,   0.,   0.,   0.,   0.,   0.,   0.,\n",
       "           0.,   0.]),\n",
       "  array([869.,   0.,   0.,   0.,   0.,   0.,   0.,   0.,   0.,   0.,   0.,\n",
       "           0.,   0.,   0.,   0.,   0.,   0.,   0.,   0.,   0.,   0.,   0.,\n",
       "           0.,   0.]),\n",
       "  array([400.,   1.,   0.,   0.,   0.,   0.,   0.,   0.,   0.,   0.,   0.,\n",
       "           0.,   0.,   0.,   0.,   0.,   0.,   0.,   0.,   0.,   0.,   0.,\n",
       "           0.,   0.]),\n",
       "  array([203.,   3.,   0.,   0.,   0.,   0.,   0.,   0.,   0.,   0.,   0.,\n",
       "           0.,   0.,   0.,   0.,   0.,   0.,   0.,   0.,   0.,   0.,   0.,\n",
       "           0.,   0.]),\n",
       "  array([160.,   8.,   1.,   0.,   0.,   0.,   0.,   0.,   0.,   0.,   0.,\n",
       "           0.,   0.,   0.,   0.,   0.,   0.,   0.,   0.,   0.,   0.,   0.,\n",
       "           0.,   0.]),\n",
       "  array([257.,   3.,   1.,   0.,   0.,   0.,   0.,   0.,   0.,   0.,   0.,\n",
       "           0.,   0.,   0.,   0.,   0.,   0.,   0.,   0.,   0.,   0.,   0.,\n",
       "           0.,   0.]),\n",
       "  array([430.,   0.,   0.,   0.,   0.,   0.,   0.,   0.,   0.,   0.,   0.,\n",
       "           0.,   0.,   0.,   0.,   0.,   0.,   0.,   0.,   0.,   0.,   0.,\n",
       "           0.,   0.]),\n",
       "  array([579.,   0.,   0.,   0.,   0.,   0.,   0.,   0.,   0.,   0.,   0.,\n",
       "           0.,   0.,   0.,   0.,   0.,   0.,   0.,   0.,   0.,   0.,   0.,\n",
       "           0.,   0.]),\n",
       "  array([383.,   0.,   0.,   0.,   0.,   0.,   0.,   0.,   0.,   0.,   0.,\n",
       "           0.,   0.,   0.,   0.,   0.,   0.,   0.,   0.,   0.,   0.,   0.,\n",
       "           0.,   0.]),\n",
       "  array([122.,  13.,   1.,   0.,   0.,   0.,   0.,   0.,   0.,   0.,   0.,\n",
       "           0.,   0.,   0.,   0.,   0.,   0.,   0.,   0.,   0.,   0.,   0.,\n",
       "           0.,   0.]),\n",
       "  array([20., 17.,  4.,  1.,  1.,  0.,  1.,  1.,  0.,  0.,  0.,  0.,  0.,\n",
       "          0.,  0.,  0.,  0.,  0.,  0.,  0.,  0.,  0.,  0.,  0.]),\n",
       "  array([11.,  9.,  4.,  1.,  0.,  0.,  1.,  0.,  0.,  0.,  0.,  1.,  1.,\n",
       "          0.,  0.,  0.,  0.,  0.,  0.,  0.,  0.,  0.,  0.,  0.]),\n",
       "  array([4., 2., 0., 2., 0., 1., 0., 1., 1., 0., 0., 0., 0., 0., 0., 0., 0.,\n",
       "         0., 0., 0., 1., 0., 0., 0.])],\n",
       " array([ 0,  1,  2,  3,  4,  5,  6,  7,  8,  9, 10, 11, 12, 13, 14, 15, 16,\n",
       "        17, 18, 19, 20, 21, 22, 23, 24]),\n",
       " <a list of 24 Lists of Patches objects>)"
      ]
     },
     "execution_count": 24,
     "metadata": {},
     "output_type": "execute_result"
    },
    {
     "data": {
      "image/png": "[encoded data removed]",
      "text/plain": [
       "<matplotlib.figure.Figure at 0x10859b518>"
      ]
     },
     "metadata": {},
     "output_type": "display_data"
    }
   ],
   "source": [
    "plt.hist(waiting_times_per_hour, bins=range(0, 25))"
   ]
  },
  {
   "cell_type": "markdown",
   "metadata": {},
   "source": [
    "Answer the following questions using Python.\n",
    "- Generate 1000 samples from a normal distribution with mean 100 and standard deviation 10. How many of the numbers are at least 2 standard deviations away from the mean? How many to you expect to be at least 2 standard deviations away from the mean?"
   ]
  },
  {
   "cell_type": "code",
   "execution_count": null,
   "metadata": {},
   "outputs": [],
   "source": [
    "import scipy.stats as ss"
   ]
  },
  {
   "cell_type": "code",
   "execution_count": null,
   "metadata": {
    "scrolled": true
   },
   "outputs": [],
   "source": [
    "print(\"Question 1.1 expected: 50, actual: \", sum(np.random.normal(100, 10, 1000) > 120) + sum(np.random.normal(100, 10, 1000) < 80))\n",
    "print(\"Question 1.2 expected: 25, actual: \", np.random.binomial(50, 0.5))\n",
    "print(\"Question 1.3 expected: 167, actual: \", sum(np.random.randint(1,7, 1000) == 6))\n",
    "print(\"Question 1.4 expected: \", ss.norm.cdf(2))"
   ]
  },
  {
   "cell_type": "markdown",
   "metadata": {},
   "source": [
    "- Toss a fair coin 50 times. How many heads do you have? How many heads to you expect to have?\n",
    "- Roll a 6­sided die 1000 times. How many 6s did you get? How many 6s do you expect to get?\n",
    "- How much area (probability) is to the right of 1.5 for a normal distribution with mean 0 and standard deviation 2?"
   ]
  }
 ],
 "metadata": {
  "kernelspec": {
   "display_name": "Python 3",
   "language": "python",
   "name": "python3"
  },
  "language_info": {
   "codemirror_mode": {
    "name": "ipython",
    "version": 3
   },
   "file_extension": ".py",
   "mimetype": "text/x-python",
   "name": "python",
   "nbconvert_exporter": "python",
   "pygments_lexer": "ipython3",
   "version": "3.6.4"
  }
 },
 "nbformat": 4,
 "nbformat_minor": 2
}
