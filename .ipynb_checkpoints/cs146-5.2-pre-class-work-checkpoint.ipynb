{
 "cells": [
  {
   "cell_type": "markdown",
   "metadata": {},
   "source": [
    "# Study Guide"
   ]
  },
  {
   "cell_type": "code",
   "execution_count": 1,
   "metadata": {},
   "outputs": [
    {
     "name": "stdout",
     "output_type": "stream",
     "text": [
      "Generating 2 samples:\n",
      "[[17 15 19 18 16 15]\n",
      " [24 15 14 17 16 14]]\n",
      "Value of probability mass function at samples:\n",
      "[1.44130417e-05 3.11292403e-06]\n"
     ]
    }
   ],
   "source": [
    "from scipy import stats\n",
    "mult = stats.multinomial(100, [1/6, 1/6, 1/6, 1/6, 1/6, 1/6])\n",
    "num_samples = 2\n",
    "print('Generating', num_samples, 'samples:')\n",
    "samples = mult.rvs(size=num_samples)\n",
    "print(samples)\n",
    "print('Value of probability mass function at samples:')\n",
    "print(mult.pmf(samples))"
   ]
  },
  {
   "cell_type": "markdown",
   "metadata": {},
   "source": [
    "The Dirichlet distribution is a conjugate prior for the multinomial likelihood. The support of\n",
    "the Dirichlet distribution is all length k probability vectors. This space is also known as the\n",
    "(k − 1) dimensional simplex. The parameter of the Dirichlet distribution α is a dimensional vector. This vector does\n",
    "→\n",
    "k\n",
    "not have to sum to 1."
   ]
  },
  {
   "cell_type": "code",
   "execution_count": 2,
   "metadata": {},
   "outputs": [
    {
     "name": "stdout",
     "output_type": "stream",
     "text": [
      "Generating 5 samples:\n",
      "[[0.00594079 0.21020544 0.48046287 0.3033909 ]\n",
      " [0.05065745 0.24243819 0.09714126 0.6097631 ]\n",
      " [0.21683616 0.19969412 0.32653094 0.25693879]\n",
      " [0.04284413 0.1251106  0.09912963 0.73291564]\n",
      " [0.05577849 0.29058969 0.20150915 0.45212267]]\n",
      "Sum of each sample (should be 1):\n",
      "[1. 1. 1. 1. 1.]\n",
      "Value of probability density function at each sample:\n",
      "[40.97821631 15.68460869 10.92156203 14.63675559 32.97770255]\n"
     ]
    }
   ],
   "source": [
    "from scipy import stats\n",
    "dirichlet = stats.dirichlet([1, 2, 3, 4])\n",
    "num_samples = 5\n",
    "print('Generating', num_samples, 'samples:')\n",
    "samples = dirichlet.rvs(size=num_samples)\n",
    "print(samples)\n",
    "print('Sum of each sample (should be 1):')\n",
    "print(samples.sum(axis=1))\n",
    "print('Value of probability density function at each sample:')\n",
    "print(dirichlet.pdf(samples.transpose()))"
   ]
  },
  {
   "cell_type": "markdown",
   "metadata": {},
   "source": [
    "# Pre-class work"
   ]
  },
  {
   "cell_type": "code",
   "execution_count": 81,
   "metadata": {},
   "outputs": [
    {
     "data": {
      "text/html": [
       "<div>\n",
       "<style scoped>\n",
       "    .dataframe tbody tr th:only-of-type {\n",
       "        vertical-align: middle;\n",
       "    }\n",
       "\n",
       "    .dataframe tbody tr th {\n",
       "        vertical-align: top;\n",
       "    }\n",
       "\n",
       "    .dataframe thead th {\n",
       "        text-align: right;\n",
       "    }\n",
       "</style>\n",
       "<table border=\"1\" class=\"dataframe\">\n",
       "  <thead>\n",
       "    <tr style=\"text-align: right;\">\n",
       "      <th></th>\n",
       "      <th>father</th>\n",
       "      <th>son</th>\n",
       "      <th>count</th>\n",
       "    </tr>\n",
       "  </thead>\n",
       "  <tbody>\n",
       "    <tr>\n",
       "      <th>0</th>\n",
       "      <td>farm</td>\n",
       "      <td>farm</td>\n",
       "      <td>703</td>\n",
       "    </tr>\n",
       "    <tr>\n",
       "      <th>1</th>\n",
       "      <td>farm</td>\n",
       "      <td>unskilled</td>\n",
       "      <td>1478</td>\n",
       "    </tr>\n",
       "    <tr>\n",
       "      <th>2</th>\n",
       "      <td>farm</td>\n",
       "      <td>skilled</td>\n",
       "      <td>1430</td>\n",
       "    </tr>\n",
       "    <tr>\n",
       "      <th>3</th>\n",
       "      <td>farm</td>\n",
       "      <td>professional</td>\n",
       "      <td>1109</td>\n",
       "    </tr>\n",
       "    <tr>\n",
       "      <th>4</th>\n",
       "      <td>unskilled</td>\n",
       "      <td>farm</td>\n",
       "      <td>58</td>\n",
       "    </tr>\n",
       "    <tr>\n",
       "      <th>5</th>\n",
       "      <td>unskilled</td>\n",
       "      <td>unskilled</td>\n",
       "      <td>1756</td>\n",
       "    </tr>\n",
       "    <tr>\n",
       "      <th>6</th>\n",
       "      <td>unskilled</td>\n",
       "      <td>skilled</td>\n",
       "      <td>1630</td>\n",
       "    </tr>\n",
       "    <tr>\n",
       "      <th>7</th>\n",
       "      <td>unskilled</td>\n",
       "      <td>professional</td>\n",
       "      <td>1568</td>\n",
       "    </tr>\n",
       "    <tr>\n",
       "      <th>8</th>\n",
       "      <td>skilled</td>\n",
       "      <td>farm</td>\n",
       "      <td>63</td>\n",
       "    </tr>\n",
       "    <tr>\n",
       "      <th>9</th>\n",
       "      <td>skilled</td>\n",
       "      <td>unskilled</td>\n",
       "      <td>1453</td>\n",
       "    </tr>\n",
       "    <tr>\n",
       "      <th>10</th>\n",
       "      <td>skilled</td>\n",
       "      <td>skilled</td>\n",
       "      <td>2068</td>\n",
       "    </tr>\n",
       "    <tr>\n",
       "      <th>11</th>\n",
       "      <td>skilled</td>\n",
       "      <td>professional</td>\n",
       "      <td>2483</td>\n",
       "    </tr>\n",
       "    <tr>\n",
       "      <th>12</th>\n",
       "      <td>professional</td>\n",
       "      <td>farm</td>\n",
       "      <td>61</td>\n",
       "    </tr>\n",
       "    <tr>\n",
       "      <th>13</th>\n",
       "      <td>professional</td>\n",
       "      <td>unskilled</td>\n",
       "      <td>749</td>\n",
       "    </tr>\n",
       "    <tr>\n",
       "      <th>14</th>\n",
       "      <td>professional</td>\n",
       "      <td>skilled</td>\n",
       "      <td>1183</td>\n",
       "    </tr>\n",
       "    <tr>\n",
       "      <th>15</th>\n",
       "      <td>professional</td>\n",
       "      <td>professional</td>\n",
       "      <td>3315</td>\n",
       "    </tr>\n",
       "  </tbody>\n",
       "</table>\n",
       "</div>"
      ],
      "text/plain": [
       "          father           son  count\n",
       "0           farm          farm    703\n",
       "1           farm     unskilled   1478\n",
       "2           farm       skilled   1430\n",
       "3           farm  professional   1109\n",
       "4      unskilled          farm     58\n",
       "5      unskilled     unskilled   1756\n",
       "6      unskilled       skilled   1630\n",
       "7      unskilled  professional   1568\n",
       "8        skilled          farm     63\n",
       "9        skilled     unskilled   1453\n",
       "10       skilled       skilled   2068\n",
       "11       skilled  professional   2483\n",
       "12  professional          farm     61\n",
       "13  professional     unskilled    749\n",
       "14  professional       skilled   1183\n",
       "15  professional  professional   3315"
      ]
     },
     "execution_count": 81,
     "metadata": {},
     "output_type": "execute_result"
    }
   ],
   "source": [
    "import pandas as pd\n",
    "df = pd.read_csv(\"https://gist.githubusercontent.com/cscheffler/482412b75d7b7c8ab83dd86e81d71403/raw/9ed65a9d2bb8455e4b225400f57f2d77f851aec9/socialmobility.csv\")\n",
    "df"
   ]
  },
  {
   "cell_type": "code",
   "execution_count": 82,
   "metadata": {},
   "outputs": [
    {
     "name": "stdout",
     "output_type": "stream",
     "text": [
      "farm: 0.011761 unskilled 0.350276 skilled 0.325158 professional 0.312805\n",
      "Confidence interval of unskilled is : 0.33715414795532683 0.3635311905052255\n"
     ]
    }
   ],
   "source": [
    "import numpy as np\n",
    "\n",
    "samples = 1000000\n",
    "\n",
    "postdist_unskilleddad = stats.dirichlet(np.array(df.iloc[:,2][df.iloc[:,0] == 'unskilled']) + 1)\n",
    "x = postdist_unskilleddad.rvs(size = samples)\n",
    "print(\"farm: %f unskilled %f skilled %f professional %f\" % tuple(np.array(np.mean(x, axis = 0))))\n",
    "print(\"Confidence interval of unskilled is :\", np.percentile(x, 2.5, axis = 0)[1], np.percentile(x, 97.5, axis = 0)[1])"
   ]
  },
  {
   "cell_type": "code",
   "execution_count": 83,
   "metadata": {},
   "outputs": [
    {
     "name": "stdout",
     "output_type": "stream",
     "text": [
      "farm: 0.130911 unskilled 0.185048 skilled 0.292956 professional 0.391085\n",
      "Confidence interval of farm is : 0.12380003479069218 0.1381840783509839\n"
     ]
    }
   ],
   "source": [
    "postdist_professionalson = stats.dirichlet(np.array(df.iloc[:,2][df.iloc[:,1] == 'professional']) + 1)\n",
    "y = postdist_professionalson.rvs(size = samples)\n",
    "print(\"farm: %f unskilled %f skilled %f professional %f\" % tuple(np.array(np.mean(y, axis = 0))))\n",
    "print(\"Confidence interval of farm is :\", np.percentile(y, 2.5, axis = 0)[0], np.percentile(y, 97.5, axis = 0)[0])"
   ]
  }
 ],
 "metadata": {
  "kernelspec": {
   "display_name": "Python 3",
   "language": "python",
   "name": "python3"
  },
  "language_info": {
   "codemirror_mode": {
    "name": "ipython",
    "version": 3
   },
   "file_extension": ".py",
   "mimetype": "text/x-python",
   "name": "python",
   "nbconvert_exporter": "python",
   "pygments_lexer": "ipython3",
   "version": "3.6.6"
  }
 },
 "nbformat": 4,
 "nbformat_minor": 2
}
