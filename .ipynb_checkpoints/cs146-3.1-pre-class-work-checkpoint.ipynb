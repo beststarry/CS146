{
 "cells": [
  {
   "cell_type": "markdown",
   "metadata": {},
   "source": [
    "# Normal likelihoods and normal-inverse-gamma priors\n",
    "\n",
    "Today we explore how samples from a normal-inverse-gamma (NIG) distribution can be interpreted as normal distributions. Each sample from the NIG distribution specifies the mean and variance of a normal distribution.\n",
    "\n",
    "This is related to the fact that the NIG distribution is a conjugate prior for the normal likelihood function. In fact, a sample from any conjugate prior can be interpreted as the likelihood function corresponding to that prior.\n",
    "\n",
    "## Normal-inverse-gamma in SciPy\n",
    "\n",
    "Even though SciPy does have classes defined for the normal distribution (`scipy.stats.norm`) and the inverse-gamma distribution (`scipy.stats.invgamma`), it does not have one defined for the normal-inverse-gamma distribution. To help you, the functions below implement the pdf and a sampler for the normal-inverse-gamma distribution."
   ]
  },
  {
   "cell_type": "code",
   "execution_count": 1,
   "metadata": {},
   "outputs": [],
   "source": [
    "import numpy as np\n",
    "import matplotlib.pyplot as plt\n",
    "from scipy import stats"
   ]
  },
  {
   "cell_type": "code",
   "execution_count": 2,
   "metadata": {},
   "outputs": [],
   "source": [
    "'''\n",
    "Function definitions for the normal-inverse-gamma distribution. The parameters\n",
    "of the distribution, namely mu, lambda / nu, alpha, beta, are as defined here:\n",
    "\n",
    "  https://en.wikipedia.org/wiki/Normal-inverse-gamma_distribution\n",
    "\n",
    "Note that we use the symbol nu (ν) rather than lambda (λ) for the third parameter.\n",
    "This is to match the notation used in the conjugate priors table on Wikipedia:\n",
    "\n",
    "  https://en.wikipedia.org/wiki/Conjugate_prior#Table_of_conjugate_distributions\n",
    "'''\n",
    "\n",
    "def norminvgamma_pdf(x, sigma2, mu, nu, alpha, beta):\n",
    "    '''\n",
    "    The probability density function of the normal-inverse-gamma distribution at\n",
    "    x (mean) and sigma2 (variance).\n",
    "    '''\n",
    "    return (\n",
    "        stats.norm.pdf(x, loc=mu, scale=np.sqrt(sigma2 / nu)) *\n",
    "        stats.invgamma.pdf(sigma2, a=alpha, scale=beta))\n",
    "\n",
    "\n",
    "def norminvgamma_rvs(mu, nu, alpha, beta, size=1):\n",
    "    '''\n",
    "    Generate n samples from the normal-inverse-gamma distribution. This function\n",
    "    returns a (size x 2) matrix where each row contains a sample, (x, sigma2).\n",
    "    '''\n",
    "    sigma2 = stats.invgamma.rvs(a=alpha, scale=beta, size=size)  # Sample sigma^2 from the inverse-gamma\n",
    "    x = stats.norm.rvs(loc=mu, scale=np.sqrt(sigma2 / nu), size=size)  # Sample x from the normal\n",
    "    return np.vstack((x, sigma2)).transpose()"
   ]
  },
  {
   "cell_type": "markdown",
   "metadata": {},
   "source": [
    "## Task 1\n",
    "\n",
    "1. Generate 10 samples from the normal-inverse-gamma distribution with parameters as\n",
    "   provided below. Each sample corresponds to the mean and variance of a normal\n",
    "   distribution.\n",
    "   \n",
    "   With these hyperparameters the prior 95% confidence interval for\n",
    "   the mean is about [-10, 10] and for the variance [0.1, 10]. In practice you would\n",
    "   work the other way around: use confidence intervals to determine values for the\n",
    "   prior hyperparameters.\n",
    "\n",
    "2. Plot the 10 normal distributions corresponding to your 10 samples. To see the functions\n",
    "   clearly, plot your graphs on the domain [-15, 15].\n",
    "   \n",
    "   You should see that the 10 samples\n",
    "   (normal distributions) are all quite different. This means the prior is quite broad\n",
    "   (uncertain) over the mean and variance."
   ]
  },
  {
   "cell_type": "code",
   "execution_count": 3,
   "metadata": {},
   "outputs": [
    {
     "data": {
      "text/plain": [
       "array([[ 4.69156853,  1.54771749],\n",
       "       [ 1.90087461,  0.17448099],\n",
       "       [-0.29229951,  0.51016863],\n",
       "       [-1.25467064,  0.41325419],\n",
       "       [-3.49597539,  0.30782725],\n",
       "       [ 0.94908612,  0.26132329],\n",
       "       [21.27983249, 20.08767067],\n",
       "       [ 1.57010743,  0.19350482],\n",
       "       [ 4.47487825,  0.34109424],\n",
       "       [-1.95181572,  0.13690456]])"
      ]
     },
     "execution_count": 3,
     "metadata": {},
     "output_type": "execute_result"
    }
   ],
   "source": [
    "# Normal-inverse-gamma prior hyperparameters\n",
    "mu_0 = 0        # The prior mean is centered around 0.\n",
    "nu_0 = 0.054    # The smaller nu_0 is, the more uncertain we are about the prior mean.\n",
    "alpha_0 = 1.12  # alpha and beta govern the marginal prior over the variance.\n",
    "beta_0 = 0.4\n",
    "\n",
    "x = norminvgamma_rvs(mu_0, nu_0, alpha_0, beta_0, size=10)\n",
    "x"
   ]
  },
  {
   "cell_type": "code",
   "execution_count": 4,
   "metadata": {},
   "outputs": [
    {
     "data": {
      "image/png": "[encoded data removed]",
      "text/plain": [
       "<matplotlib.figure.Figure at 0x1a0ce8be10>"
      ]
     },
     "metadata": {},
     "output_type": "display_data"
    }
   ],
   "source": [
    "import matplotlib.mlab as mlab\n",
    "\n",
    "for i in x:\n",
    "    norm = np.linspace(i[0] - 3*i[1], i[0] + 3*i[1], 100)\n",
    "    plt.plot(norm, mlab.normpdf(norm, i[0], i[1]))\n",
    "    \n",
    "plt.xlim(-15, 15)\n",
    "plt.show()"
   ]
  },
  {
   "cell_type": "markdown",
   "metadata": {},
   "source": [
    "## Task 2\n",
    "\n",
    "Draw 1,000,000 samples from the normal-inverse-gamma prior above and calculate\n",
    "approximate 95% confidence intervals over the mean and the variance using the\n",
    "samples. You can use the `numpy.percentile` function for this.\n",
    "\n",
    "Your confidence intervals should approximately match the intervals [-10, 10] and [0.1, 10]."
   ]
  },
  {
   "cell_type": "code",
   "execution_count": 5,
   "metadata": {},
   "outputs": [
    {
     "name": "stdout",
     "output_type": "stream",
     "text": [
      "[-10.008662223373046, 10.018881402011395]\n",
      "[0.10168547690395992, 10.066961042982992]\n"
     ]
    }
   ],
   "source": [
    "# x = norminvgamma_rvs(mu_0, nu_0, alpha_0, beta_0, size= 1000000)\n",
    "# Normal-inverse-gamma prior hyperparameters\n",
    "mu_0 = 0        # The prior mean is centered around 0.\n",
    "nu_0 = 0.054    # The smaller nu_0 is, the more uncertain we are about the prior mean.\n",
    "alpha_0 = 1.12  # alpha and beta govern the marginal prior over the variance.\n",
    "beta_0 = 0.4\n",
    "\n",
    "y = norminvgamma_rvs(mu_0, nu_0, alpha_0, beta_0, size=1000000)\n",
    "\n",
    "print([np.percentile(y[:,0], 2.5), np.percentile(y[:,0], 97.5)])\n",
    "print([np.percentile(y[:,1], 2.5), np.percentile(y[:,1], 97.5)])"
   ]
  },
  {
   "cell_type": "markdown",
   "metadata": {},
   "source": [
    "## Task 3\n",
    "Code the equations for calculating the posterior normal-inverse-gamma hyperparameters\n",
    "from the prior hyperparameters and data."
   ]
  },
  {
   "cell_type": "code",
   "execution_count": 6,
   "metadata": {},
   "outputs": [],
   "source": [
    "data = np.array([1, 2, 3, 4])  # In class you will get a larger data set.\n",
    "                               # This is just to get you started.\n",
    "mu_post = (mu_0*nu_0 + len(y)*np.mean(y[:, 0]))/(nu_0 + len(y))\n",
    "nu_post = nu_0  + len(y)\n",
    "alpha_post = alpha_0 + len(y)/2\n",
    "beta_post = beta_0 + 0.5*(sum((y[:, 0] - np.mean(y[:, 0]))**2)) + (len(y)*nu_0*(np.mean(y[:, 0]) - mu_0)**2)/(2*(nu_0 + len(y)))"
   ]
  },
  {
   "cell_type": "markdown",
   "metadata": {},
   "source": [
    "## Task 4 (optional)\n",
    "\n",
    "You are told that the prior information we used above is incorrect. Actually, the prior 95%\n",
    "confidence interval on the mean should be [-15, 15] and on the variance [0.5, 2]. So, the prior\n",
    "over the mean is less certain (broader) than we had before, but the prior over the variance is\n",
    "more certain (narrower).\n",
    "\n",
    "Determine prior hyperparameters for the normal-inverse-gamma distribution that match the\n",
    "prior information above.\n",
    "\n",
    "\n",
    "This problem can be solved by wokring backwards with the formulas for the confidence intervals combined with the formulas the mean and the variance of the inverse gamma function"
   ]
  },
  {
   "cell_type": "code",
   "execution_count": 7,
   "metadata": {},
   "outputs": [
    {
     "ename": "SyntaxError",
     "evalue": "invalid syntax (<ipython-input-7-ded6ff446b17>, line 1)",
     "output_type": "error",
     "traceback": [
      "\u001b[0;36m  File \u001b[0;32m\"<ipython-input-7-ded6ff446b17>\"\u001b[0;36m, line \u001b[0;32m1\u001b[0m\n\u001b[0;31m    stats.invgamma.ppf(a=alpha, scale=beta, si ze=1000)\u001b[0m\n\u001b[0m                                                ^\u001b[0m\n\u001b[0;31mSyntaxError\u001b[0m\u001b[0;31m:\u001b[0m invalid syntax\n"
     ]
    }
   ],
   "source": [
    "stats.invgamma.ppf(a=alpha, scale=beta, si ze=1000)"
   ]
  },
  {
   "cell_type": "code",
   "execution_count": null,
   "metadata": {},
   "outputs": [],
   "source": [
    "mu_0 = 0        # The prior mean is centered around 0.\n",
    "nu_0 = 0.024    # The smaller nu_0 is, the more uncertain we are about the prior mean.\n",
    "alpha_0 = 1.4  # alpha and beta govern the marginal prior over the variance.\n",
    "beta_0 = 1\n",
    "\n",
    "y = norminvgamma_rvs(mu_0, nu_0, alpha_0, beta_0, size=10000)\n",
    "\n",
    "print([np.percentile(y[:,0], 2.5), np.percentile(y[:,0], 97.5)])\n",
    "print([np.percentile(y[:,1], 2.5), np.percentile(y[:,1], 97.5)])"
   ]
  }
 ],
 "metadata": {
  "kernelspec": {
   "display_name": "Python 3",
   "language": "python",
   "name": "python3"
  },
  "language_info": {
   "codemirror_mode": {
    "name": "ipython",
    "version": 3
   },
   "file_extension": ".py",
   "mimetype": "text/x-python",
   "name": "python",
   "nbconvert_exporter": "python",
   "pygments_lexer": "ipython3",
   "version": "3.6.4"
  }
 },
 "nbformat": 4,
 "nbformat_minor": 2
}
