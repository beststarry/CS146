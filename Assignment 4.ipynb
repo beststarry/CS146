{
 "cells": [
  {
   "cell_type": "markdown",
   "metadata": {},
   "source": [
    "## Assignment 4"
   ]
  },
  {
   "cell_type": "code",
   "execution_count": 50,
   "metadata": {},
   "outputs": [
    {
     "name": "stdout",
     "output_type": "stream",
     "text": [
      "P-value: 0.011\n"
     ]
    },
    {
     "data": {
      "image/png": "[encoded data removed]",
      "text/plain": [
       "<Figure size 432x288 with 1 Axes>"
      ]
     },
     "metadata": {
      "needs_background": "light"
     },
     "output_type": "display_data"
    }
   ],
   "source": [
    "sample_sizes = [15, 18, 10, 39, 29, 10]\n",
    "\n",
    "test_statistics = []\n",
    "\n",
    "def test_function(arr):\n",
    "    return np.std(arr)\n",
    "\n",
    "# generate 1000 posterior values of p\n",
    "for i in stats.beta(107,141).rvs(1000):\n",
    "    sixvalues = []\n",
    "    \n",
    "    # for each value of p\n",
    "    for j in sample_sizes:\n",
    "        \n",
    "        # simulate 6 experiments, one for each in the control group.\n",
    "        sixvalues.append(stats.binom(j, i).rvs(1)/j)\n",
    "        \n",
    "    test_statistics.append(test_function(sixvalues))\n",
    "\n",
    "controltest = test_function(np.divide([9,11,4,21,12,0],sample_sizes))\n",
    "print('P-value:', sum([1 for i in test_statistics if i>controltest])/len(test_statistics))\n",
    "plt.hist(test_statistics)\n",
    "plt.title('Distribution of standard deviations of replicated data')\n",
    "plt.axvline(color='black')\n",
    "plt.show()"
   ]
  }
 ],
 "metadata": {
  "kernelspec": {
   "display_name": "Python 3",
   "language": "python",
   "name": "python3"
  },
  "language_info": {
   "codemirror_mode": {
    "name": "ipython",
    "version": 3
   },
   "file_extension": ".py",
   "mimetype": "text/x-python",
   "name": "python",
   "nbconvert_exporter": "python",
   "pygments_lexer": "ipython3",
   "version": "3.6.6"
  }
 },
 "nbformat": 4,
 "nbformat_minor": 2
}
