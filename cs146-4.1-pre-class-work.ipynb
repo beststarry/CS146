{
 "cells": [
  {
   "cell_type": "markdown",
   "metadata": {},
   "source": [
    "mean = 2.3, sigma = 0.5\n",
    "variance = 2.75, sigma = 1\n",
    "\n",
    "For normal-inverse-gamma,\n",
    "E(x) = mu\n",
    "E(sigma^2) = b/(a-1)\n",
    "Var(x) = b/((a-1)(lambda))\n",
    "Var(sigma^2) = b^2/()"
   ]
  },
  {
   "cell_type": "code",
   "execution_count": 1,
   "metadata": {},
   "outputs": [
    {
     "ename": "NameError",
     "evalue": "name 'pdf' is not defined",
     "output_type": "error",
     "traceback": [
      "\u001b[0;31m---------------------------------------------------------------------------\u001b[0m",
      "\u001b[0;31mNameError\u001b[0m                                 Traceback (most recent call last)",
      "\u001b[0;32m<ipython-input-1-6706c67f72ed>\u001b[0m in \u001b[0;36m<module>\u001b[0;34m()\u001b[0m\n\u001b[1;32m      4\u001b[0m \u001b[0mb_0\u001b[0m \u001b[0;34m=\u001b[0m \u001b[0;36m23.546875\u001b[0m\u001b[0;34m\u001b[0m\u001b[0m\n\u001b[1;32m      5\u001b[0m \u001b[0;34m\u001b[0m\u001b[0m\n\u001b[0;32m----> 6\u001b[0;31m \u001b[0mpdf\u001b[0m\u001b[0;34m\u001b[0m\u001b[0m\n\u001b[0m",
      "\u001b[0;31mNameError\u001b[0m: name 'pdf' is not defined"
     ]
    }
   ],
   "source": [
    "import scipy.stats as sp\n",
    "\n",
    "mu_0 = 2.3\n",
    "lamb_0 = 11\n",
    "a_0 = 9.5625\n",
    "b_0 = 23.546875\n",
    "\n",
    "def norminvgammapdf(mu, lamb, a, b):\n",
    "    return sp.sqrt(lamb)\n",
    "    \n",
    "norminvgammapdf(mu_0, lamb_0, a_0, b_0)"
   ]
  }
 ],
 "metadata": {
  "kernelspec": {
   "display_name": "Python 3",
   "language": "python",
   "name": "python3"
  },
  "language_info": {
   "codemirror_mode": {
    "name": "ipython",
    "version": 3
   },
   "file_extension": ".py",
   "mimetype": "text/x-python",
   "name": "python",
   "nbconvert_exporter": "python",
   "pygments_lexer": "ipython3",
   "version": "3.6.4"
  }
 },
 "nbformat": 4,
 "nbformat_minor": 2
}
