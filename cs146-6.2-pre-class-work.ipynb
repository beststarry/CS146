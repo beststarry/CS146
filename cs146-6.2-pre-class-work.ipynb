{
 "cells": [
  {
   "cell_type": "markdown",
   "metadata": {},
   "source": [
    "Using the normal approximation to the binomial distribution, confirm that the 95%\n",
    "confidence interval for the sampling error for sample size 1000 and percentage outcome\n",
    "10% is 2% (rounded to the nearest integer). Motivate why it is appropriate to use the\n",
    "binomial distribution here."
   ]
  },
  {
   "cell_type": "code",
   "execution_count": 18,
   "metadata": {},
   "outputs": [
    {
     "data": {
      "text/plain": [
       "array([-1.85577718,  1.85624573])"
      ]
     },
     "execution_count": 18,
     "metadata": {},
     "output_type": "execute_result"
    }
   ],
   "source": [
    "import scipy.stats as ss\n",
    "import numpy as np\n",
    "n = 1000\n",
    "p = 0.1\n",
    "\n",
    "mu = n*p\n",
    "sigma = np.sqrt(n*p*(1-p))\n",
    "\n",
    "\n",
    "x = np.random.normal(loc = n*p, scale = np.sqrt(n*p*(1-p)), size = 100000)\n",
    "(np.percentile(x, [2.5, 97.5],) - mu)/n*100"
   ]
  },
  {
   "cell_type": "markdown",
   "metadata": {},
   "source": [
    "Write a Python function for calculating the 95% confidence interval given any sample\n",
    "size and any percentage outcome. Use your function to calculate all the values in the\n",
    "Total Survey Error table rounded to the nearest integer. For which entries does your\n",
    "margin of error differ from the value in the table?"
   ]
  },
  {
   "cell_type": "code",
   "execution_count": 67,
   "metadata": {},
   "outputs": [
    {
     "data": {
      "text/plain": [
       "array([[ 2.,  2.,  3.,  4.,  6.],\n",
       "       [ 2.,  3.,  4.,  6.,  8.],\n",
       "       [ 3.,  3.,  4.,  6.,  9.],\n",
       "       [ 3.,  3.,  4.,  7., 10.],\n",
       "       [ 3.,  4.,  4.,  7., 10.],\n",
       "       [ 3.,  4.,  4.,  7., 10.],\n",
       "       [ 3.,  3.,  4.,  6.,  9.],\n",
       "       [ 2.,  3.,  4.,  6.,  8.],\n",
       "       [ 2.,  2.,  3.,  4.,  6.]])"
      ]
     },
     "execution_count": 67,
     "metadata": {},
     "output_type": "execute_result"
    }
   ],
   "source": [
    "def jacob(n, p):\n",
    "    x = np.random.normal(loc = n*p, scale = np.sqrt(n*p*(1-p)), size = 100000)\n",
    "    return np.round((np.percentile(x, [2.5, 97.5],) - n*p)/n*100)\n",
    "\n",
    "sample_size = [1000, 750, 500, 200, 100]\n",
    "outcomes = [0.1,0.2,0.3,0.4,0.5,0.6,0.7,0.8,0.9]\n",
    "\n",
    "x = np.ones((len(outcomes), len(sample_size)))\n",
    "\n",
    "for i in range(len(sample_size)):\n",
    "    for j in range(len(outcomes)):\n",
    "        x[j,i] = (jacob(sample_size[i],outcomes[j])[1])\n",
    "x"
   ]
  }
 ],
 "metadata": {
  "kernelspec": {
   "display_name": "Python 3",
   "language": "python",
   "name": "python3"
  },
  "language_info": {
   "codemirror_mode": {
    "name": "ipython",
    "version": 3
   },
   "file_extension": ".py",
   "mimetype": "text/x-python",
   "name": "python",
   "nbconvert_exporter": "python",
   "pygments_lexer": "ipython3",
   "version": "3.6.6"
  }
 },
 "nbformat": 4,
 "nbformat_minor": 2
}
